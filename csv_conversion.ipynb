{
 "cells": [
  {
   "cell_type": "code",
   "execution_count": 18,
   "metadata": {},
   "outputs": [],
   "source": [
    "import pandas as pd\n",
    "import itertools\n",
    "import numpy as np\n",
    "from time_conv import *\n",
    "from graph import PornGraph\n",
    "import matplotlib.pyplot as plt\n",
    "import seaborn as sns"
   ]
  },
  {
   "cell_type": "code",
   "execution_count": 8,
   "metadata": {},
   "outputs": [
    {
     "data": {
      "text/html": [
       "<div>\n",
       "<style scoped>\n",
       "    .dataframe tbody tr th:only-of-type {\n",
       "        vertical-align: middle;\n",
       "    }\n",
       "\n",
       "    .dataframe tbody tr th {\n",
       "        vertical-align: top;\n",
       "    }\n",
       "\n",
       "    .dataframe thead th {\n",
       "        text-align: right;\n",
       "    }\n",
       "</style>\n",
       "<table border=\"1\" class=\"dataframe\">\n",
       "  <thead>\n",
       "    <tr style=\"text-align: right;\">\n",
       "      <th></th>\n",
       "      <th>pornstars</th>\n",
       "      <th>title</th>\n",
       "      <th>duration</th>\n",
       "      <th>date</th>\n",
       "    </tr>\n",
       "  </thead>\n",
       "  <tbody>\n",
       "    <tr>\n",
       "      <th>0</th>\n",
       "      <td>Katie Gold|Rihanna Samuel|Sweet Cat|Alex Black</td>\n",
       "      <td>VR BANGERS-Five Crazy Hot Girls Fuck And Suck ...</td>\n",
       "      <td>25:34</td>\n",
       "      <td>2017-03-14</td>\n",
       "    </tr>\n",
       "    <tr>\n",
       "      <th>1</th>\n",
       "      <td>Kenzie Reeves</td>\n",
       "      <td>WetVR Kenzie Reeves Fucks Big Dick In Full VR ...</td>\n",
       "      <td>43:30</td>\n",
       "      <td>2019-11-15</td>\n",
       "    </tr>\n",
       "    <tr>\n",
       "      <th>2</th>\n",
       "      <td>Julia De Lucia</td>\n",
       "      <td>BaDoinkVR Lez Strap-On VR</td>\n",
       "      <td>5:55</td>\n",
       "      <td>2016-03-23</td>\n",
       "    </tr>\n",
       "    <tr>\n",
       "      <th>3</th>\n",
       "      <td>Alexis Crystal|Billie Star|Victoria Daniels</td>\n",
       "      <td>BaDoinkVR.com Foursome With Three College Slut...</td>\n",
       "      <td>11:59</td>\n",
       "      <td>2018-10-29</td>\n",
       "    </tr>\n",
       "    <tr>\n",
       "      <th>4</th>\n",
       "      <td>Chloe Lamour</td>\n",
       "      <td>Busty big ass courtesan Chloé rides your rock-...</td>\n",
       "      <td>10:37</td>\n",
       "      <td>2019-01-01</td>\n",
       "    </tr>\n",
       "    <tr>\n",
       "      <th>...</th>\n",
       "      <td>...</td>\n",
       "      <td>...</td>\n",
       "      <td>...</td>\n",
       "      <td>...</td>\n",
       "    </tr>\n",
       "    <tr>\n",
       "      <th>78595</th>\n",
       "      <td>Romeo Davis</td>\n",
       "      <td>Jerking Off With Romeo Davis</td>\n",
       "      <td>5:38</td>\n",
       "      <td>2022-11-07</td>\n",
       "    </tr>\n",
       "    <tr>\n",
       "      <th>78598</th>\n",
       "      <td>JD Phoenix</td>\n",
       "      <td>Cigar smoking twink JD Phoenix masturbates and...</td>\n",
       "      <td>9:04</td>\n",
       "      <td>2022-09-10</td>\n",
       "    </tr>\n",
       "    <tr>\n",
       "      <th>78599</th>\n",
       "      <td>Peter Stallion</td>\n",
       "      <td>Blue Eyed Muscle Jerks Uncut Cock - Peter Stal...</td>\n",
       "      <td>13:02</td>\n",
       "      <td>2022-08-24</td>\n",
       "    </tr>\n",
       "    <tr>\n",
       "      <th>78601</th>\n",
       "      <td>Mason Lear</td>\n",
       "      <td>Muscular jock Mason Lear masturbates and cums ...</td>\n",
       "      <td>10:00</td>\n",
       "      <td>2023-01-11</td>\n",
       "    </tr>\n",
       "    <tr>\n",
       "      <th>78604</th>\n",
       "      <td>Oliver Strelly</td>\n",
       "      <td>Horny Boy Toy Kevin Plays With His Big Hard Sh...</td>\n",
       "      <td>5:09</td>\n",
       "      <td>2023-01-06</td>\n",
       "    </tr>\n",
       "  </tbody>\n",
       "</table>\n",
       "<p>107331 rows × 4 columns</p>\n",
       "</div>"
      ],
      "text/plain": [
       "                                            pornstars  \\\n",
       "0      Katie Gold|Rihanna Samuel|Sweet Cat|Alex Black   \n",
       "1                                       Kenzie Reeves   \n",
       "2                                      Julia De Lucia   \n",
       "3         Alexis Crystal|Billie Star|Victoria Daniels   \n",
       "4                                        Chloe Lamour   \n",
       "...                                               ...   \n",
       "78595                                     Romeo Davis   \n",
       "78598                                      JD Phoenix   \n",
       "78599                                  Peter Stallion   \n",
       "78601                                      Mason Lear   \n",
       "78604                                  Oliver Strelly   \n",
       "\n",
       "                                                   title duration        date  \n",
       "0      VR BANGERS-Five Crazy Hot Girls Fuck And Suck ...    25:34  2017-03-14  \n",
       "1      WetVR Kenzie Reeves Fucks Big Dick In Full VR ...    43:30  2019-11-15  \n",
       "2                             BaDoinkVR Lez Strap-On VR      5:55  2016-03-23  \n",
       "3      BaDoinkVR.com Foursome With Three College Slut...    11:59  2018-10-29  \n",
       "4      Busty big ass courtesan Chloé rides your rock-...    10:37  2019-01-01  \n",
       "...                                                  ...      ...         ...  \n",
       "78595                       Jerking Off With Romeo Davis     5:38  2022-11-07  \n",
       "78598  Cigar smoking twink JD Phoenix masturbates and...     9:04  2022-09-10  \n",
       "78599  Blue Eyed Muscle Jerks Uncut Cock - Peter Stal...    13:02  2022-08-24  \n",
       "78601  Muscular jock Mason Lear masturbates and cums ...    10:00  2023-01-11  \n",
       "78604  Horny Boy Toy Kevin Plays With His Big Hard Sh...     5:09  2023-01-06  \n",
       "\n",
       "[107331 rows x 4 columns]"
      ]
     },
     "execution_count": 8,
     "metadata": {},
     "output_type": "execute_result"
    }
   ],
   "source": [
    "df = pd.read_csv('videos.csv',index_col=0)\n",
    "\n",
    "df"
   ]
  },
  {
   "cell_type": "code",
   "execution_count": null,
   "metadata": {},
   "outputs": [],
   "source": [
    "df = df.drop_duplicates()\n",
    "df.to_csv('videos.csv')\n",
    "df"
   ]
  },
  {
   "cell_type": "code",
   "execution_count": null,
   "metadata": {},
   "outputs": [],
   "source": [
    "changed = []\n",
    "\n",
    "for i, data in df.iterrows():\n",
    "    listed_pornstar = data.pornstars.split('|')\n",
    "    if len(listed_pornstar) == 1:\n",
    "        changed.append([listed_pornstar[0],np.nan,data.title,sec_to_time(str_to_seconds(data.duration)),data.date])\n",
    "\n",
    "    else:\n",
    "        for star1, star2 in itertools.combinations(listed_pornstar,2):\n",
    "            changed.append([*sorted([star1, star2]),data.title, sec_to_time(str_to_seconds(data.duration)),data.date])\n",
    "\n",
    "\n",
    "\n",
    "\n",
    "converted = pd.DataFrame(changed, columns=['pornstar_1','pornstar_2','titles','duration','date'])\n",
    "converted.to_csv('converted.csv')"
   ]
  },
  {
   "cell_type": "code",
   "execution_count": 3,
   "metadata": {},
   "outputs": [
    {
     "name": "stdout",
     "output_type": "stream",
     "text": [
      "1\n",
      "2\n",
      "done\n"
     ]
    }
   ],
   "source": [
    "# df['date']= pd.to_datetime(df['date'])\n",
    "g = PornGraph()\n",
    "g.from_csv('converted.csv')\n",
    "print('done')\n",
    "\n"
   ]
  },
  {
   "cell_type": "code",
   "execution_count": null,
   "metadata": {},
   "outputs": [],
   "source": [
    "changed = []\n",
    "\n",
    "for i, data in df.iterrows():\n",
    "    listed_pornstar = data.pornstars.split('|')\n",
    "    for star in listed_pornstar:\n",
    "\n",
    "        changed.append([star,data.date])\n",
    "\n",
    "\n",
    "converted = pd.DataFrame(changed, columns=['pornstar','date'])\n",
    "converted = converted.groupby(['pornstar','date']).size()\n",
    "converted = converted.groupby(level=0).cumsum().reset_index()\n",
    "plt.figure(figsize=(10,10))\n",
    "sns.lineplot(x='date',y=0,data=converted,hue='pornstar')"
   ]
  }
 ],
 "metadata": {
  "kernelspec": {
   "display_name": "Python 3",
   "language": "python",
   "name": "python3"
  },
  "language_info": {
   "codemirror_mode": {
    "name": "ipython",
    "version": 3
   },
   "file_extension": ".py",
   "mimetype": "text/x-python",
   "name": "python",
   "nbconvert_exporter": "python",
   "pygments_lexer": "ipython3",
   "version": "3.10.0 (tags/v3.10.0:b494f59, Oct  4 2021, 19:00:18) [MSC v.1929 64 bit (AMD64)]"
  },
  "orig_nbformat": 4,
  "vscode": {
   "interpreter": {
    "hash": "26de051ba29f2982a8de78e945f0abaf191376122a1563185a90213a26c5da77"
   }
  }
 },
 "nbformat": 4,
 "nbformat_minor": 2
}
