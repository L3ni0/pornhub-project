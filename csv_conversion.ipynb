{
 "cells": [
  {
   "cell_type": "code",
   "execution_count": 22,
   "metadata": {},
   "outputs": [],
   "source": [
    "import pandas as pd\n",
    "import itertools\n",
    "import numpy as np\n",
    "from time_conv import *\n",
    "from graph import PornGraph"
   ]
  },
  {
   "cell_type": "code",
   "execution_count": 25,
   "metadata": {},
   "outputs": [
    {
     "data": {
      "text/html": [
       "<div>\n",
       "<style scoped>\n",
       "    .dataframe tbody tr th:only-of-type {\n",
       "        vertical-align: middle;\n",
       "    }\n",
       "\n",
       "    .dataframe tbody tr th {\n",
       "        vertical-align: top;\n",
       "    }\n",
       "\n",
       "    .dataframe thead th {\n",
       "        text-align: right;\n",
       "    }\n",
       "</style>\n",
       "<table border=\"1\" class=\"dataframe\">\n",
       "  <thead>\n",
       "    <tr style=\"text-align: right;\">\n",
       "      <th></th>\n",
       "      <th>pornstars</th>\n",
       "      <th>title</th>\n",
       "      <th>duration</th>\n",
       "      <th>date</th>\n",
       "    </tr>\n",
       "  </thead>\n",
       "  <tbody>\n",
       "    <tr>\n",
       "      <th>0</th>\n",
       "      <td>Kim Kardashian|Ray J</td>\n",
       "      <td>Kim Kardashian Sex Tape with Ray J</td>\n",
       "      <td>5:00</td>\n",
       "      <td>2011-03-10</td>\n",
       "    </tr>\n",
       "    <tr>\n",
       "      <th>1</th>\n",
       "      <td>Johnny Sins|Mandy Flores</td>\n",
       "      <td>Horny guy fucked his stepmom</td>\n",
       "      <td>16:36</td>\n",
       "      <td>2017-05-03</td>\n",
       "    </tr>\n",
       "    <tr>\n",
       "      <th>2</th>\n",
       "      <td>Anastasia Knight|Alex Adams</td>\n",
       "      <td>Playing a Game With Hot Step Sister - Anastasi...</td>\n",
       "      <td>28:50</td>\n",
       "      <td>2018-02-22</td>\n",
       "    </tr>\n",
       "    <tr>\n",
       "      <th>3</th>\n",
       "      <td>Barbara Bieber</td>\n",
       "      <td>Redhead teacher teaches student with big cock ...</td>\n",
       "      <td>13:03</td>\n",
       "      <td>2016-05-04</td>\n",
       "    </tr>\n",
       "    <tr>\n",
       "      <th>4</th>\n",
       "      <td>Bruce Venture|Holly Michaels</td>\n",
       "      <td>fucking hot</td>\n",
       "      <td>22:04</td>\n",
       "      <td>2015-05-31</td>\n",
       "    </tr>\n",
       "  </tbody>\n",
       "</table>\n",
       "</div>"
      ],
      "text/plain": [
       "                      pornstars  \\\n",
       "0          Kim Kardashian|Ray J   \n",
       "1      Johnny Sins|Mandy Flores   \n",
       "2   Anastasia Knight|Alex Adams   \n",
       "3                Barbara Bieber   \n",
       "4  Bruce Venture|Holly Michaels   \n",
       "\n",
       "                                               title duration        date  \n",
       "0                 Kim Kardashian Sex Tape with Ray J     5:00  2011-03-10  \n",
       "1                       Horny guy fucked his stepmom    16:36  2017-05-03  \n",
       "2  Playing a Game With Hot Step Sister - Anastasi...    28:50  2018-02-22  \n",
       "3  Redhead teacher teaches student with big cock ...    13:03  2016-05-04  \n",
       "4                                        fucking hot    22:04  2015-05-31  "
      ]
     },
     "execution_count": 25,
     "metadata": {},
     "output_type": "execute_result"
    }
   ],
   "source": [
    "df = pd.read_csv('videos.csv',index_col=0)\n",
    "df.head()"
   ]
  },
  {
   "cell_type": "code",
   "execution_count": 35,
   "metadata": {},
   "outputs": [],
   "source": [
    "changed = []\n",
    "\n",
    "for i, data in df.iterrows():\n",
    "    listed_pornstar = data.pornstars.split('|')\n",
    "    if len(listed_pornstar) == 1:\n",
    "        changed.append([listed_pornstar[0],np.nan,data.title,sec_to_time(str_to_seconds(data.duration)),data.date])\n",
    "\n",
    "    else:\n",
    "        for star1, star2 in itertools.combinations(listed_pornstar,2):\n",
    "            changed.append([*sorted([star1, star2]),data.title, sec_to_time(str_to_seconds(data.duration)),data.date])\n",
    "\n",
    "\n",
    "\n",
    "\n",
    "converted = pd.DataFrame(changed, columns=['pornstar_1','pornstar_2','titles','duration','date'])\n",
    "converted.to_csv('converted.csv')"
   ]
  },
  {
   "cell_type": "code",
   "execution_count": null,
   "metadata": {},
   "outputs": [],
   "source": []
  }
 ],
 "metadata": {
  "kernelspec": {
   "display_name": "Python 3",
   "language": "python",
   "name": "python3"
  },
  "language_info": {
   "codemirror_mode": {
    "name": "ipython",
    "version": 3
   },
   "file_extension": ".py",
   "mimetype": "text/x-python",
   "name": "python",
   "nbconvert_exporter": "python",
   "pygments_lexer": "ipython3",
   "version": "3.10.0"
  },
  "orig_nbformat": 4,
  "vscode": {
   "interpreter": {
    "hash": "26de051ba29f2982a8de78e945f0abaf191376122a1563185a90213a26c5da77"
   }
  }
 },
 "nbformat": 4,
 "nbformat_minor": 2
}
